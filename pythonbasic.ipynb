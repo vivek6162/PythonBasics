{
  "nbformat": 4,
  "nbformat_minor": 0,
  "metadata": {
    "colab": {
      "provenance": []
    },
    "kernelspec": {
      "name": "python3",
      "display_name": "Python 3"
    },
    "language_info": {
      "name": "python"
    }
  },
  "cells": [
    {
      "cell_type": "markdown",
      "source": [
        "#Python Basic\n",
        "1.What is Python, and why is it popular?\n",
        "  - Python is a high-level, interpreted programming language that is known for its simplicity and readability.\n",
        "  - It's popular because of it's various characteristics like 1) Ease of Learning and Use, 2) Versatility, 3) Large Community and Extensive Libraries.\n",
        "\n",
        "2.What is an interpreter in Python?\n",
        "  - interpreter is a program that reads and executes Python code line by line.\n",
        "\n",
        "3.What are pre-defined keywords in Python?\n",
        "  - pre-defined keywords are special words that have a predefined meaning and functionality within the language.\n",
        "\n",
        "4.Can keywords be used as variable names?\n",
        "  - No, keywords in Python cannot be used as variable names or identifiers.\n",
        "\n",
        "5.What is mutability in Python?\n",
        "  - In Python, mutability refers to the ability of an object to be modified after it is created. Some objects in Python are mutable, meaning their content or state can be changed.\n",
        "\n",
        "6.Why are lists mutable, but tuples are immutable?\n",
        "  - Lists are designed for flexibility puropse in Python while tuples are designed for fixed data purpose.\n",
        "\n",
        "7.What is the difference between “==” and “is” operators in Python?\n",
        "  - The \"==\" operator is used to compare the values of two objects. While, The \"is\" operator is used to compare the identity of two objects.\n",
        "\n",
        "8.What are logical operators in Python?\n",
        "  - In Python, logical operators are used to perform logical operations on boolean values (True or False). These operators allow you to combine multiple conditions or test whether certain conditions are true or false.\n",
        "\n",
        "9.What is type casting in Python?\n",
        "  - Type casting in Python refers to the process of converting one data type into another.\n",
        "\n",
        "10.What is the difference between implicit and explicit type casting?\n",
        "   - The difference between implicit and explicit type casting in Python lies in how the conversion between data types is performed, and whether or not it requires the programmer's intervention.\n",
        "\n",
        "11.What is the purpose of conditional statements in Python?\n",
        "   - The purpose of conditional statements in Python is to allow the program to make decisions based on certain conditions. They enable the program to execute specific blocks of code depending on whether a given condition is True or False.\n",
        "\n",
        "12.How does the elif statement work?\n",
        "   - The elif statement in Python is used in conditional structures to check multiple conditions. It allows you to check for additional conditions after the initial if condition. If the if condition is False, Python will move to the elif condition and evaluate them. If an elif condition is True, it will execute the corresponding block of code.\n",
        "\n",
        "13.What is the difference between for and while loops?\n",
        "   - A for loop is typically used when you know beforehand how many times you want to execute a block of code, or when you are iterating over a sequence. While, while loop is used when you want to repeat a block of code as long as a certain condition is True. It continues looping until the condition becomes False.\n",
        "\n",
        "14.Describe a scenario where a while loop is more suitable than a for loop.\n",
        "   - Imagine you're developing a program that monitors some process, like waiting for a file to be downloaded or waiting for an API response. You need to keep checking the status of the process repeatedly until it's complete.\n",
        "\n",
        "   "
      ],
      "metadata": {
        "id": "q--ajsiWQkwD"
      }
    },
    {
      "cell_type": "code",
      "source": [
        "#Write a Python program to print \"Hello, World!\"\n",
        "\n",
        "print(\"Hello, World!\")\n"
      ],
      "metadata": {
        "colab": {
          "base_uri": "https://localhost:8080/"
        },
        "id": "_Yo3FW0SX4oR",
        "outputId": "fe360508-3d5d-4a5b-9e14-5c2fd8190e46"
      },
      "execution_count": 1,
      "outputs": [
        {
          "output_type": "stream",
          "name": "stdout",
          "text": [
            "Hello, World!\n"
          ]
        }
      ]
    },
    {
      "cell_type": "code",
      "source": [
        "#Write a Python program that displays your name and age\n",
        "\n",
        "# Defining variables for name and age\n",
        "name = \"Vivek Dave\"\n",
        "age = 25\n",
        "\n",
        "# Displaying the information\n",
        "print(\"Name:\", name)\n",
        "print(\"Age:\", age)"
      ],
      "metadata": {
        "colab": {
          "base_uri": "https://localhost:8080/"
        },
        "id": "26yEZ52yYbl4",
        "outputId": "a581f3f2-0e73-49d3-d357-ebf86a69ed98"
      },
      "execution_count": 2,
      "outputs": [
        {
          "output_type": "stream",
          "name": "stdout",
          "text": [
            "Name: Vivek Dave\n",
            "Age: 25\n"
          ]
        }
      ]
    },
    {
      "cell_type": "code",
      "source": [
        "# Write code to print all the pre-defined keywords in Python using the keyword library\n",
        "\n",
        "import keyword\n",
        "\n",
        "# Print all predefined keywords in Python\n",
        "print(\"Python Predefined Keywords:\")\n",
        "print(keyword.kwlist)"
      ],
      "metadata": {
        "colab": {
          "base_uri": "https://localhost:8080/"
        },
        "id": "wEP89UoQYyB5",
        "outputId": "ee2738f1-2f16-4dd9-bf49-f4af977d2b3b"
      },
      "execution_count": 3,
      "outputs": [
        {
          "output_type": "stream",
          "name": "stdout",
          "text": [
            "Python Predefined Keywords:\n",
            "['False', 'None', 'True', 'and', 'as', 'assert', 'async', 'await', 'break', 'class', 'continue', 'def', 'del', 'elif', 'else', 'except', 'finally', 'for', 'from', 'global', 'if', 'import', 'in', 'is', 'lambda', 'nonlocal', 'not', 'or', 'pass', 'raise', 'return', 'try', 'while', 'with', 'yield']\n"
          ]
        }
      ]
    },
    {
      "cell_type": "code",
      "execution_count": 4,
      "metadata": {
        "colab": {
          "base_uri": "https://localhost:8080/"
        },
        "id": "hmYiE_JbPigC",
        "outputId": "04983085-acfd-46bf-bbac-b17a60744942"
      },
      "outputs": [
        {
          "output_type": "stream",
          "name": "stdout",
          "text": [
            "Enter a word to check if it is a Python keyword: hello\n",
            "'hello' is not a Python keyword.\n"
          ]
        }
      ],
      "source": [
        "#Write a program that checks if a given word is a Python keyword.\n",
        "\n",
        "import keyword\n",
        "\n",
        "# Function to check if the given word is a Python keyword\n",
        "def check_keyword(word):\n",
        "    if keyword.iskeyword(word):\n",
        "        print(f\"'{word}' is a Python keyword.\")\n",
        "    else:\n",
        "        print(f\"'{word}' is not a Python keyword.\")\n",
        "\n",
        "# Taking user input\n",
        "word = input(\"Enter a word to check if it is a Python keyword: \")\n",
        "\n",
        "# Checking if the word is a Python keyword\n",
        "check_keyword(word)"
      ]
    },
    {
      "cell_type": "code",
      "source": [
        "#Create a list and tuple in Python, and demonstrate how attempting to change an element works differently for each.\n",
        "\n",
        "# Creating a list and a tuple\n",
        "my_list = [10, 20, 30, 40, 50]\n",
        "my_tuple = (10, 20, 30, 40, 50)\n",
        "\n",
        "# Attempt to change an element in the list\n",
        "print(\"Original list:\", my_list)\n",
        "my_list[2] = 99  # Change the third element (index 2) in the list\n",
        "print(\"List after modification:\", my_list)\n",
        "\n",
        "# Attempt to change an element in the tuple\n",
        "print(\"\\nOriginal tuple:\", my_tuple)\n",
        "try:\n",
        "    my_tuple[2] = 99  # Trying to change the third element (index 2) in the tuple\n",
        "except TypeError:\n",
        "    print(\"Tuples are immutable. Cannot modify elements.\")\n"
      ],
      "metadata": {
        "colab": {
          "base_uri": "https://localhost:8080/"
        },
        "id": "2TsJF4DpZYgl",
        "outputId": "74e27ccf-d4b0-4f21-fdd6-4d586c3b9bdf"
      },
      "execution_count": 5,
      "outputs": [
        {
          "output_type": "stream",
          "name": "stdout",
          "text": [
            "Original list: [10, 20, 30, 40, 50]\n",
            "List after modification: [10, 20, 99, 40, 50]\n",
            "\n",
            "Original tuple: (10, 20, 30, 40, 50)\n",
            "Tuples are immutable. Cannot modify elements.\n"
          ]
        }
      ]
    },
    {
      "cell_type": "code",
      "source": [
        "#Write a function to demonstrate the behavior of mutable and immutable arguments.\n",
        "\n",
        "# Function to demonstrate mutable and immutable arguments\n",
        "def modify_arguments(immutable_arg, mutable_arg):\n",
        "    print(\"Before modification:\")\n",
        "    print(\"Immutable argument:\", immutable_arg)\n",
        "    print(\"Mutable argument:\", mutable_arg)\n",
        "\n",
        "    # Modify the immutable argument (this will not affect the original)\n",
        "    immutable_arg += 5\n",
        "    # Modify the mutable argument (this will affect the original)\n",
        "    mutable_arg.append(100)\n",
        "\n",
        "    print(\"\\nAfter modification:\")\n",
        "    print(\"Immutable argument:\", immutable_arg)  # Does not change outside the function\n",
        "    print(\"Mutable argument:\", mutable_arg)  # Changes outside the function\n",
        "\n",
        "# Test with an immutable argument (integer) and a mutable argument (list)\n",
        "immutable_value = 10\n",
        "mutable_value = [1, 2, 3]\n",
        "\n",
        "modify_arguments(immutable_value, mutable_value)\n",
        "\n",
        "# Show the values after the function call\n",
        "print(\"\\nOutside function after modification:\")\n",
        "print(\"Immutable argument (outside):\", immutable_value)\n",
        "print(\"Mutable argument (outside):\", mutable_value)\n"
      ],
      "metadata": {
        "colab": {
          "base_uri": "https://localhost:8080/"
        },
        "id": "uaZxP9-9Z7LC",
        "outputId": "6a894422-adc3-4e8e-d4d2-9c4efa5f398b"
      },
      "execution_count": 6,
      "outputs": [
        {
          "output_type": "stream",
          "name": "stdout",
          "text": [
            "Before modification:\n",
            "Immutable argument: 10\n",
            "Mutable argument: [1, 2, 3]\n",
            "\n",
            "After modification:\n",
            "Immutable argument: 15\n",
            "Mutable argument: [1, 2, 3, 100]\n",
            "\n",
            "Outside function after modification:\n",
            "Immutable argument (outside): 10\n",
            "Mutable argument (outside): [1, 2, 3, 100]\n"
          ]
        }
      ]
    },
    {
      "cell_type": "code",
      "source": [
        "#Write a program that performs basic arithmetic operations on two user-input numbers.\n",
        "\n",
        "# Function to perform basic arithmetic operations\n",
        "def arithmetic_operations(num1, num2):\n",
        "    # Addition\n",
        "    addition = num1 + num2\n",
        "    print(f\"{num1} + {num2} = {addition}\")\n",
        "\n",
        "    # Subtraction\n",
        "    subtraction = num1 - num2\n",
        "    print(f\"{num1} - {num2} = {subtraction}\")\n",
        "\n",
        "    # Multiplication\n",
        "    multiplication = num1 * num2\n",
        "    print(f\"{num1} * {num2} = {multiplication}\")\n",
        "\n",
        "    # Division (with check to avoid division by zero)\n",
        "    if num2 != 0:\n",
        "        division = num1 / num2\n",
        "        print(f\"{num1} / {num2} = {division}\")\n",
        "    else:\n",
        "        print(\"Cannot divide by zero.\")\n",
        "\n",
        "    # Modulus (remainder of division)\n",
        "    if num2 != 0:\n",
        "        modulus = num1 % num2\n",
        "        print(f\"{num1} % {num2} = {modulus}\")\n",
        "    else:\n",
        "        print(\"Cannot compute modulus with zero.\")\n",
        "\n",
        "# Taking input from the user\n",
        "try:\n",
        "    num1 = float(input(\"Enter the first number: \"))\n",
        "    num2 = float(input(\"Enter the second number: \"))\n",
        "\n",
        "    # Calling the function to perform arithmetic operations\n",
        "    arithmetic_operations(num1, num2)\n",
        "except ValueError:\n",
        "    print(\"Please enter valid numbers.\")\n"
      ],
      "metadata": {
        "colab": {
          "base_uri": "https://localhost:8080/"
        },
        "id": "EewV4UbFaVQq",
        "outputId": "8cbfb08a-ad3a-41b3-8353-89fb1b264c73"
      },
      "execution_count": 7,
      "outputs": [
        {
          "output_type": "stream",
          "name": "stdout",
          "text": [
            "Enter the first number: 10\n",
            "Enter the second number: 2\n",
            "10.0 + 2.0 = 12.0\n",
            "10.0 - 2.0 = 8.0\n",
            "10.0 * 2.0 = 20.0\n",
            "10.0 / 2.0 = 5.0\n",
            "10.0 % 2.0 = 0.0\n"
          ]
        }
      ]
    },
    {
      "cell_type": "code",
      "source": [
        "# Write a program to demonstrate the use of logical operators.\n",
        "\n",
        "# Function to demonstrate logical operators\n",
        "def logical_operators_demo(a, b):\n",
        "    # Using 'and' operator\n",
        "    print(f\"Using 'and' operator:\")\n",
        "    if a > 5 and b < 10:\n",
        "        print(f\"Both conditions are true: {a} > 5 and {b} < 10\")\n",
        "    else:\n",
        "        print(f\"One or both conditions are false.\")\n",
        "\n",
        "    # Using 'or' operator\n",
        "    print(f\"\\nUsing 'or' operator:\")\n",
        "    if a > 5 or b < 5:\n",
        "        print(f\"At least one condition is true: {a} > 5 or {b} < 5\")\n",
        "    else:\n",
        "        print(f\"Both conditions are false.\")\n",
        "\n",
        "    # Using 'not' operator\n",
        "    print(f\"\\nUsing 'not' operator:\")\n",
        "    if not(a < 5):\n",
        "        print(f\"The condition 'a < 5' is false, so 'not' makes it true (a is {a})\")\n",
        "    else:\n",
        "        print(f\"The condition 'a < 5' is true, so 'not' makes it false.\")\n",
        "\n",
        "# Taking input from the user\n",
        "try:\n",
        "    a = int(input(\"Enter the first number (a): \"))\n",
        "    b = int(input(\"Enter the second number (b): \"))\n",
        "\n",
        "    # Calling the function to demonstrate logical operators\n",
        "    logical_operators_demo(a, b)\n",
        "\n",
        "except ValueError:\n",
        "    print(\"Please enter valid integer values.\")\n"
      ],
      "metadata": {
        "colab": {
          "base_uri": "https://localhost:8080/"
        },
        "id": "2HP-7TGYapC8",
        "outputId": "1466bdf1-dca0-4878-e305-25fca7d98967"
      },
      "execution_count": 8,
      "outputs": [
        {
          "output_type": "stream",
          "name": "stdout",
          "text": [
            "Enter the first number (a): 10\n",
            "Enter the second number (b): 2\n",
            "Using 'and' operator:\n",
            "Both conditions are true: 10 > 5 and 2 < 10\n",
            "\n",
            "Using 'or' operator:\n",
            "At least one condition is true: 10 > 5 or 2 < 5\n",
            "\n",
            "Using 'not' operator:\n",
            "The condition 'a < 5' is false, so 'not' makes it true (a is 10)\n"
          ]
        }
      ]
    },
    {
      "cell_type": "code",
      "source": [
        "#Write a Python program to convert user input from string to integer, float, and boolean types.\n",
        "\n",
        "# Function to convert user input to different types\n",
        "def convert_input():\n",
        "    # Taking user input as a string\n",
        "    user_input = input(\"Enter a value: \")\n",
        "\n",
        "    # Convert to integer\n",
        "    try:\n",
        "        int_value = int(user_input)\n",
        "        print(f\"Converted to integer: {int_value}\")\n",
        "    except ValueError:\n",
        "        print(\"Could not convert to integer.\")\n",
        "\n",
        "    # Convert to float\n",
        "    try:\n",
        "        float_value = float(user_input)\n",
        "        print(f\"Converted to float: {float_value}\")\n",
        "    except ValueError:\n",
        "        print(\"Could not convert to float.\")\n",
        "\n",
        "    # Convert to boolean\n",
        "    if user_input.lower() in ['true', '1', 'yes', 'y']:\n",
        "        bool_value = True\n",
        "    elif user_input.lower() in ['false', '0', 'no', 'n']:\n",
        "        bool_value = False\n",
        "    else:\n",
        "        bool_value = bool(user_input)  # Default conversion (any non-empty string is True)\n",
        "    print(f\"Converted to boolean: {bool_value}\")\n",
        "\n",
        "# Call the function to demonstrate the conversions\n",
        "convert_input()\n"
      ],
      "metadata": {
        "colab": {
          "base_uri": "https://localhost:8080/"
        },
        "id": "CofSVcL5a6vs",
        "outputId": "df8f641b-e51d-41bb-f4c4-320a5a55f3c4"
      },
      "execution_count": 9,
      "outputs": [
        {
          "output_type": "stream",
          "name": "stdout",
          "text": [
            "Enter a value: 10\n",
            "Converted to integer: 10\n",
            "Converted to float: 10.0\n",
            "Converted to boolean: True\n"
          ]
        }
      ]
    },
    {
      "cell_type": "code",
      "source": [
        "#Write code to demonstrate type casting with list elements.\n",
        "\n",
        "# Function to demonstrate type casting with list elements\n",
        "def type_casting_list_elements():\n",
        "    # Original list with different types of elements (as strings)\n",
        "    str_list = [\"1\", \"2\", \"3\", \"4.5\", \"True\", \"100\"]\n",
        "\n",
        "    # Type casting the list elements to different types\n",
        "\n",
        "    # Convert string to int (Only integer strings will be converted)\n",
        "    int_list = [int(i) for i in str_list if i.isdigit()]\n",
        "\n",
        "    # Convert string to float (For valid float strings)\n",
        "    float_list = []\n",
        "    for i in str_list:\n",
        "        try:\n",
        "            # Try converting to float and add it to the float list\n",
        "            float_list.append(float(i))\n",
        "        except ValueError:\n",
        "            # If conversion fails, move on to the next\n",
        "            continue\n",
        "\n",
        "    # Convert string to boolean based on its value\n",
        "    bool_list = [True if i.lower() == \"true\" else False for i in str_list]\n",
        "\n",
        "    # Printing the results\n",
        "    print(\"Original list (as strings):\", str_list)\n",
        "    print(\"List with integers:\", int_list)\n",
        "    print(\"List with floats:\", float_list)\n",
        "    print(\"List with booleans:\", bool_list)\n",
        "\n",
        "# Call the function to demonstrate type casting\n",
        "type_casting_list_elements()\n",
        "\n",
        "\n"
      ],
      "metadata": {
        "colab": {
          "base_uri": "https://localhost:8080/"
        },
        "id": "LZmP3IUBbGbk",
        "outputId": "7cac7cc2-218e-4dd0-da8b-f545892e6d76"
      },
      "execution_count": 13,
      "outputs": [
        {
          "output_type": "stream",
          "name": "stdout",
          "text": [
            "Original list (as strings): ['1', '2', '3', '4.5', 'True', '100']\n",
            "List with integers: [1, 2, 3, 100]\n",
            "List with floats: [1.0, 2.0, 3.0, 4.5, 100.0]\n",
            "List with booleans: [False, False, False, False, True, False]\n"
          ]
        }
      ]
    },
    {
      "cell_type": "code",
      "source": [
        "# Write a program that checks if a number is positive, negative, or zero.\n",
        "\n",
        "# Function to check if the number is positive, negative, or zero\n",
        "def check_number():\n",
        "    try:\n",
        "        # Taking user input\n",
        "        number = float(input(\"Enter a number: \"))\n",
        "\n",
        "        # Checking if the number is positive, negative, or zero\n",
        "        if number > 0:\n",
        "            print(f\"The number {number} is positive.\")\n",
        "        elif number < 0:\n",
        "            print(f\"The number {number} is negative.\")\n",
        "        else:\n",
        "            print(f\"The number {number} is zero.\")\n",
        "\n",
        "    except ValueError:\n",
        "        print(\"Invalid input! Please enter a valid number.\")\n",
        "\n",
        "# Call the function\n",
        "check_number()\n"
      ],
      "metadata": {
        "colab": {
          "base_uri": "https://localhost:8080/"
        },
        "id": "0IqetV1ecArz",
        "outputId": "30c9d9fd-40ba-4e27-8cb9-73a638b1df24"
      },
      "execution_count": 14,
      "outputs": [
        {
          "output_type": "stream",
          "name": "stdout",
          "text": [
            "Enter a number: 10\n",
            "The number 10.0 is positive.\n"
          ]
        }
      ]
    },
    {
      "cell_type": "code",
      "source": [
        "#Write a for loop to print numbers from 1 to 10.\n",
        "\n",
        "# Using a for loop to print numbers from 1 to 10\n",
        "for i in range(1, 11):\n",
        "    print(i)\n"
      ],
      "metadata": {
        "colab": {
          "base_uri": "https://localhost:8080/"
        },
        "id": "bmLSYXkgcMCp",
        "outputId": "2bb08eef-d89c-4060-c2cf-859a4440dd31"
      },
      "execution_count": 15,
      "outputs": [
        {
          "output_type": "stream",
          "name": "stdout",
          "text": [
            "1\n",
            "2\n",
            "3\n",
            "4\n",
            "5\n",
            "6\n",
            "7\n",
            "8\n",
            "9\n",
            "10\n"
          ]
        }
      ]
    },
    {
      "cell_type": "code",
      "source": [
        "# Write a Python program to find the sum of all even numbers between 1 and 50.\n",
        "\n",
        "# Initialize the sum variable\n",
        "sum_even = 0\n",
        "\n",
        "# Loop through numbers from 1 to 50\n",
        "for i in range(1, 51):\n",
        "    # Check if the number is even\n",
        "    if i % 2 == 0:\n",
        "        sum_even += i  # Add the even number to the sum\n",
        "\n",
        "# Print the result\n",
        "print(\"The sum of all even numbers between 1 and 50 is:\", sum_even)\n"
      ],
      "metadata": {
        "colab": {
          "base_uri": "https://localhost:8080/"
        },
        "id": "APN1u7eAcWgm",
        "outputId": "3ecd8b2b-470b-4090-c923-98db572ec78b"
      },
      "execution_count": 16,
      "outputs": [
        {
          "output_type": "stream",
          "name": "stdout",
          "text": [
            "The sum of all even numbers between 1 and 50 is: 650\n"
          ]
        }
      ]
    },
    {
      "cell_type": "code",
      "source": [
        "#Write a program to reverse a string using a while loop.\n",
        "\n",
        "# Function to reverse a string using a while loop\n",
        "def reverse_string():\n",
        "    # Take user input for the string\n",
        "    input_string = input(\"Enter a string: \")\n",
        "\n",
        "    # Initialize an empty string to store the reversed string\n",
        "    reversed_string = \"\"\n",
        "\n",
        "    # Set an index to the last character of the input string\n",
        "    index = len(input_string) - 1\n",
        "\n",
        "    # Use a while loop to iterate over the string in reverse\n",
        "    while index >= 0:\n",
        "        reversed_string += input_string[index]  # Append the character to reversed_string\n",
        "        index -= 1  # Move to the previous character\n",
        "\n",
        "    # Print the reversed string\n",
        "    print(\"Reversed string:\", reversed_string)\n",
        "\n",
        "# Call the function\n",
        "reverse_string()\n"
      ],
      "metadata": {
        "colab": {
          "base_uri": "https://localhost:8080/"
        },
        "id": "bGFnDzmKci66",
        "outputId": "597f5eeb-5f18-440e-82a6-01a4df7a4b2f"
      },
      "execution_count": 17,
      "outputs": [
        {
          "output_type": "stream",
          "name": "stdout",
          "text": [
            "Enter a string: hello\n",
            "Reversed string: olleh\n"
          ]
        }
      ]
    },
    {
      "cell_type": "code",
      "source": [
        "#Write a Python program to calculate the factorial of a number provided by the user using a while loop.\n",
        "\n",
        "# Function to calculate the factorial of a number using a while loop\n",
        "def factorial():\n",
        "    # Take user input for the number\n",
        "    num = int(input(\"Enter a number: \"))\n",
        "\n",
        "    # Check if the number is negative\n",
        "    if num < 0:\n",
        "        print(\"Factorial does not exist for negative numbers.\")\n",
        "        return\n",
        "\n",
        "    # Initialize factorial variable\n",
        "    fact = 1\n",
        "\n",
        "    # Initialize counter to the number\n",
        "    counter = num\n",
        "\n",
        "    # Use a while loop to calculate the factorial\n",
        "    while counter > 0:\n",
        "        fact *= counter  # Multiply fact by the current counter value\n",
        "        counter -= 1      # Decrease counter by 1\n",
        "\n",
        "    # Print the factorial\n",
        "    print(f\"The factorial of {num} is {fact}\")\n",
        "\n",
        "# Call the function\n",
        "factorial()\n"
      ],
      "metadata": {
        "colab": {
          "base_uri": "https://localhost:8080/"
        },
        "id": "DfeK81Aic3jA",
        "outputId": "207b8473-a24a-4406-fb8a-0314027c6743"
      },
      "execution_count": 18,
      "outputs": [
        {
          "output_type": "stream",
          "name": "stdout",
          "text": [
            "Enter a number: 10\n",
            "The factorial of 10 is 3628800\n"
          ]
        }
      ]
    }
  ]
}